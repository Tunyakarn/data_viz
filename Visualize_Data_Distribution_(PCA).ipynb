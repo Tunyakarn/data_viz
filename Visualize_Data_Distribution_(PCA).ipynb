{
  "nbformat": 4,
  "nbformat_minor": 0,
  "metadata": {
    "colab": {
      "name": "Visualize Data Distribution (PCA).ipynb",
      "provenance": [],
      "authorship_tag": "ABX9TyN55qw1U1CP3WutMDzefe2u",
      "include_colab_link": true
    },
    "kernelspec": {
      "name": "python3",
      "display_name": "Python 3"
    },
    "language_info": {
      "name": "python"
    }
  },
  "cells": [
    {
      "cell_type": "markdown",
      "metadata": {
        "id": "view-in-github",
        "colab_type": "text"
      },
      "source": [
        "<a href=\"https://colab.research.google.com/github/Tunyakarn/data_viz/blob/main/Visualize_Data_Distribution_(PCA).ipynb\" target=\"_parent\"><img src=\"https://colab.research.google.com/assets/colab-badge.svg\" alt=\"Open In Colab\"/></a>"
      ]
    },
    {
      "cell_type": "markdown",
      "metadata": {
        "id": "z1ebM4uFBC9f"
      },
      "source": [
        "## เมื่อเรามีตัวแปรมากกว่า 2 ตัว เราสามารถใช้ PCA (Principle Compo)"
      ]
    },
    {
      "cell_type": "code",
      "metadata": {
        "id": "jvwpaq6MBtgU"
      },
      "source": [
        ""
      ],
      "execution_count": null,
      "outputs": []
    },
    {
      "cell_type": "markdown",
      "metadata": {
        "id": "rea49zv9BsmN"
      },
      "source": [
        "### load data"
      ]
    },
    {
      "cell_type": "code",
      "metadata": {
        "id": "Uivs4LAA-PcB"
      },
      "source": [
        ""
      ],
      "execution_count": null,
      "outputs": []
    },
    {
      "cell_type": "markdown",
      "metadata": {
        "id": "ZYlOJTA-CP2Y"
      },
      "source": [
        "sklearn -> scikit-learn เป็น package ที่รวบรวม function การทำ Data Science-Machine Learning-Data Mining เอาไว้ให้เราใช้แบบไม่ต้องเขียนเอง"
      ]
    },
    {
      "cell_type": "markdown",
      "metadata": {
        "id": "AGcZKUM4Cuvt"
      },
      "source": [
        "### import"
      ]
    },
    {
      "cell_type": "code",
      "metadata": {
        "id": "3x1zmUrZCPPb"
      },
      "source": [
        "from sklearn.decomposition import PCA"
      ],
      "execution_count": null,
      "outputs": []
    },
    {
      "cell_type": "markdown",
      "metadata": {
        "id": "YN3rQNqJC7uz"
      },
      "source": [
        "### Define"
      ]
    },
    {
      "cell_type": "code",
      "metadata": {
        "id": "4Hxv8qcYC-i_"
      },
      "source": [
        "pca = PCA()"
      ],
      "execution_count": null,
      "outputs": []
    },
    {
      "cell_type": "markdown",
      "metadata": {
        "id": "zU89Q87eE0_-"
      },
      "source": [
        "Fit-Transform"
      ]
    },
    {
      "cell_type": "code",
      "metadata": {
        "id": "LkRzUVKNFo5e"
      },
      "source": [
        "example_df.iloc[:,:-1].shape"
      ],
      "execution_count": null,
      "outputs": []
    },
    {
      "cell_type": "code",
      "metadata": {
        "id": "I79Z9ZHXE8AS"
      },
      "source": [
        "new_pca = pca.fit_tranform(example_df.iloc[:,:-1]) ##record - แถว , dimension - หลัก"
      ],
      "execution_count": null,
      "outputs": []
    },
    {
      "cell_type": "code",
      "metadata": {
        "id": "rHqM9Ds6F0Hd"
      },
      "source": [
        "new_pca.shape"
      ],
      "execution_count": null,
      "outputs": []
    },
    {
      "cell_type": "code",
      "metadata": {
        "id": "vE3X7tZQF4cX"
      },
      "source": [
        "pca.explained_variance_ratio_"
      ],
      "execution_count": null,
      "outputs": []
    },
    {
      "cell_type": "code",
      "metadata": {
        "id": "UOxHTBmJHLTd"
      },
      "source": [
        "pca.explained_variance_"
      ],
      "execution_count": null,
      "outputs": []
    },
    {
      "cell_type": "code",
      "metadata": {
        "id": "kxl2btIPHTjw"
      },
      "source": [
        "from matplotlib import pyplot as plt"
      ],
      "execution_count": null,
      "outputs": []
    },
    {
      "cell_type": "code",
      "metadata": {
        "id": "6b8gpiYnISfe"
      },
      "source": [
        "plt.plot(new_pca[:50,0],new_pca[:50,1],'ro')\n",
        "plt.plot(new_pca[50:100,0],new_pca[50:100,1],'go')\n",
        "plt.plot(new_pca[100:,0],new_pca[100:,1],'bo')"
      ],
      "execution_count": null,
      "outputs": []
    },
    {
      "cell_type": "code",
      "metadata": {
        "id": "xFBdFkDfJoaN"
      },
      "source": [
        "plt.plot(example_df.iloc[:50,0],example_df.iloc[:50,1],'ro')\n",
        "plt.plot(example_df.iloc[50:100,0],example_df.iloc[50:100,1],'go')\n",
        "plt.plot(example_df.iloc[100:,0],example_df.iloc[100:,1],'bo')"
      ],
      "execution_count": null,
      "outputs": []
    },
    {
      "cell_type": "code",
      "metadata": {
        "id": "mZkT2xc_IFKX"
      },
      "source": [
        "plt.scatter(new_pca[:,0],new_pca[:,1])"
      ],
      "execution_count": null,
      "outputs": []
    },
    {
      "cell_type": "code",
      "metadata": {
        "id": "BfD-78N6Hc_n"
      },
      "source": [
        "plt.plot([1,2,3,4],pca.explained_variance_,'o-')"
      ],
      "execution_count": null,
      "outputs": []
    }
  ]
}