{
  "nbformat": 4,
  "nbformat_minor": 0,
  "metadata": {
    "colab": {
      "name": "Function_Loop_Condition.ipynb",
      "provenance": [],
      "authorship_tag": "ABX9TyMQFNUVKOERhD9dh2oifr19",
      "include_colab_link": true
    },
    "kernelspec": {
      "name": "python3",
      "display_name": "Python 3"
    }
  },
  "cells": [
    {
      "cell_type": "markdown",
      "metadata": {
        "id": "view-in-github",
        "colab_type": "text"
      },
      "source": [
        "<a href=\"https://colab.research.google.com/github/Tunyakarn/data_viz/blob/main/Function_Loop_Condition.ipynb\" target=\"_parent\"><img src=\"https://colab.research.google.com/assets/colab-badge.svg\" alt=\"Open In Colab\"/></a>"
      ]
    },
    {
      "cell_type": "markdown",
      "metadata": {
        "id": "cJx8veUqgTuY"
      },
      "source": [
        "Function"
      ]
    },
    {
      "cell_type": "markdown",
      "metadata": {
        "id": "WcBocIYQg1Gs"
      },
      "source": [
        "Function template ทำหน้าที่รับ input มาประมวณผลออกมาเป็น output"
      ]
    },
    {
      "cell_type": "markdown",
      "metadata": {
        "id": "e1p1qflZhIn9"
      },
      "source": [
        "f(x) = y"
      ]
    },
    {
      "cell_type": "markdown",
      "metadata": {
        "id": "2cAi56jXhGR4"
      },
      "source": [
        "def คือ การกำหนดฟังก์ชัน"
      ]
    },
    {
      "cell_type": "markdown",
      "metadata": {
        "id": "KWKl8DwFkOAF"
      },
      "source": [
        "```python \n",
        "def function_name(_Input_) :\n",
        "  do_something with _Input_ to get _Output_\n",
        "  return _Output_\n",
        "  ```"
      ]
    },
    {
      "cell_type": "markdown",
      "metadata": {
        "id": "a0m4JUK5l8uJ"
      },
      "source": [
        "function มีส่วนสำคัญทั้งหมด 4 ส่วน\n",
        "1. บอก python ว่าเราจะเขียนฟังก์ชัน ชื่ออะไร ```def function_name():``` << ขาดไม่ได้\n",
        "2. กำหนดตัวแปรที่จะเป็น input ```_Input_``` << ขาดได้\n",
        "3. ส่วนประมวณผล ```do_something with _Input_ to get _Output_``` << ขาดไม่ได้\n",
        "4. ส่วน output ```return _Output_``` << ขาดได้ "
      ]
    },
    {
      "cell_type": "markdown",
      "metadata": {
        "id": "i9DsdMl9kTOT"
      },
      "source": [
        "ตัวอย่างการเขียน normal function"
      ]
    },
    {
      "cell_type": "code",
      "metadata": {
        "id": "eE8ZwtwJkHbT"
      },
      "source": [
        "def print_name(surname,ID,name) :\n",
        "  st = f'ชื่อ {name} นามสกุล {surname} รหัส {ID}'\n",
        "  return st"
      ],
      "execution_count": 4,
      "outputs": []
    },
    {
      "cell_type": "code",
      "metadata": {
        "colab": {
          "base_uri": "https://localhost:8080/",
          "height": 37
        },
        "id": "2OtRH5CAk1a4",
        "outputId": "709c3eac-d211-4ca1-e03e-057e6e22c14a"
      },
      "source": [
        "print_name('พวงมาลัย','613020551-8','ธันยาการต์')"
      ],
      "execution_count": 5,
      "outputs": [
        {
          "output_type": "execute_result",
          "data": {
            "application/vnd.google.colaboratory.intrinsic+json": {
              "type": "string"
            },
            "text/plain": [
              "'ชื่อ ธันยาการต์ นามสกุล พวงมาลัย รหัส 613020551-8'"
            ]
          },
          "metadata": {
            "tags": []
          },
          "execution_count": 5
        }
      ]
    },
    {
      "cell_type": "code",
      "metadata": {
        "colab": {
          "base_uri": "https://localhost:8080/"
        },
        "id": "wiiJEoOvnpPV",
        "outputId": "2d5ec609-067e-4e35-88fb-629d1a9a4fdc"
      },
      "source": [
        "print(print_name(name='ธันยาการต์',surname='พวงมาลัย',ID='613020551-8'))"
      ],
      "execution_count": 6,
      "outputs": [
        {
          "output_type": "stream",
          "text": [
            "ชื่อ ธันยาการต์ นามสกุล พวงมาลัย รหัส 613020551-8\n"
          ],
          "name": "stdout"
        }
      ]
    },
    {
      "cell_type": "markdown",
      "metadata": {
        "id": "F8mdQ-qIpa8O"
      },
      "source": [
        "ใช้เว้นวรรค(indent) เพื่อบอกขอบเขตของโปรแกรม"
      ]
    },
    {
      "cell_type": "code",
      "metadata": {
        "id": "FwvPmBTFpAF3"
      },
      "source": [
        "def print_name2(surname,ID,name) :\n",
        "  st = f'ชื่อ {name} นามสกุล {surname} รหัส {ID}'\n",
        "  print(st)"
      ],
      "execution_count": 10,
      "outputs": []
    },
    {
      "cell_type": "code",
      "metadata": {
        "colab": {
          "base_uri": "https://localhost:8080/"
        },
        "id": "9ssQZkRopnsi",
        "outputId": "7372a2f6-e532-49fa-e98c-64e4a48dc7e7"
      },
      "source": [
        "print_name2(name='ธันยาการต์',surname='พวงมาลัย',ID='613020551-8')"
      ],
      "execution_count": 11,
      "outputs": [
        {
          "output_type": "stream",
          "text": [
            "ชื่อ ธันยาการต์ นามสกุล พวงมาลัย รหัส 613020551-8\n"
          ],
          "name": "stdout"
        }
      ]
    },
    {
      "cell_type": "markdown",
      "metadata": {
        "id": "mXsZS0C8qatD"
      },
      "source": [
        "ฟังก์ชันไม่จำเป็นต้องมี input"
      ]
    },
    {
      "cell_type": "code",
      "metadata": {
        "id": "lwfmsbh6qjLU"
      },
      "source": [
        "def Pi():\n",
        "  return 3.14159265359"
      ],
      "execution_count": 12,
      "outputs": []
    },
    {
      "cell_type": "code",
      "metadata": {
        "colab": {
          "base_uri": "https://localhost:8080/"
        },
        "id": "qR24vKTSqsyA",
        "outputId": "7e51b9e8-7afc-4988-ecb8-5f3cacb5fdad"
      },
      "source": [
        "Pi()*(2**2) # หาพื้นที่ของวงกลมที่มีรัศมีเท่ากับ Pi * r^2 "
      ],
      "execution_count": 13,
      "outputs": [
        {
          "output_type": "execute_result",
          "data": {
            "text/plain": [
              "12.56637061436"
            ]
          },
          "metadata": {
            "tags": []
          },
          "execution_count": 13
        }
      ]
    },
    {
      "cell_type": "markdown",
      "metadata": {
        "id": "LxeUt0Hdrcky"
      },
      "source": [
        "เราสามารถกำหนดค่า default ให้กับฟังก์ชันได้"
      ]
    },
    {
      "cell_type": "markdown",
      "metadata": {
        "id": "SuaseaVGxXsb"
      },
      "source": [
        "input ของ function ใน python มี 2 แบบ คือ \n",
        "1. input ที่จำเป็นต้องใส่\n",
        "2. input ที่ไม่จำเป็นต้องใส่ (มีค่า default)"
      ]
    },
    {
      "cell_type": "code",
      "metadata": {
        "id": "A24HEC8Vrr6d"
      },
      "source": [
        "def print_2lines_default(name,surname,ID,grade='F'):\n",
        "  st = f'ชื่อ {name} นามสกุล {surname} รหัส {ID}'\n",
        "  print(st)\n",
        "  st2 = f'เกรดวิชา Data Viz >>> {grade}'\n",
        "  print(st2)"
      ],
      "execution_count": 14,
      "outputs": []
    },
    {
      "cell_type": "code",
      "metadata": {
        "colab": {
          "base_uri": "https://localhost:8080/"
        },
        "id": "ODRwrrvEs-Sp",
        "outputId": "d4563117-6234-4f41-826e-7cc90a685c8b"
      },
      "source": [
        "print_2lines_default('ธันยาการต์','พวงมาลัย','613020551-8')"
      ],
      "execution_count": 15,
      "outputs": [
        {
          "output_type": "stream",
          "text": [
            "ชื่อ ธันยาการต์ นามสกุล พวงมาลัย รหัส 613020551-8\n",
            "เกรดวิชา Data Viz >>> F\n"
          ],
          "name": "stdout"
        }
      ]
    },
    {
      "cell_type": "code",
      "metadata": {
        "colab": {
          "base_uri": "https://localhost:8080/"
        },
        "id": "KCclWSiexQAd",
        "outputId": "d3d18681-7d16-47bb-ddb7-a85e228067cc"
      },
      "source": [
        "print_2lines_default('ธันยาการต์','พวงมาลัย','613020551-8','A')"
      ],
      "execution_count": 17,
      "outputs": [
        {
          "output_type": "stream",
          "text": [
            "ชื่อ ธันยาการต์ นามสกุล พวงมาลัย รหัส 613020551-8\n",
            "เกรดวิชา Data Viz >>> A\n"
          ],
          "name": "stdout"
        }
      ]
    },
    {
      "cell_type": "markdown",
      "metadata": {
        "id": "EfXBiS5V0XXZ"
      },
      "source": [
        "LOOP การวนซ้ำ"
      ]
    },
    {
      "cell_type": "markdown",
      "metadata": {
        "id": "85ZH0yHi0kik"
      },
      "source": [
        "for เป็นคำที่ใช้บอก python ว่าเรากำลังเขียน loop \n",
        "โดย for จะวนดึงสมาชิกจาก ```listA``` มาทำ process ```do_something```"
      ]
    },
    {
      "cell_type": "markdown",
      "metadata": {
        "id": "e5SA9bhx0_65"
      },
      "source": [
        "for each_member in listA :\n",
        "do_something"
      ]
    },
    {
      "cell_type": "markdown",
      "metadata": {
        "id": "YDPUz3oa1VJ6"
      },
      "source": [
        "คำสั่ง for เป็นคำสั่งวนซ้ำที่ใช้ควบคุมการทำงานซ้ำๆในจำนวนรอบที่แน่นอน"
      ]
    },
    {
      "cell_type": "code",
      "metadata": {
        "colab": {
          "base_uri": "https://localhost:8080/"
        },
        "id": "1jBOwk2o0aX8",
        "outputId": "762ad620-0339-40ff-bb8a-c3ca43eae176"
      },
      "source": [
        "for i in [1,2,3] :\n",
        "  o = i**2\n",
        "  print(f'this member = {i} after process = {o}')"
      ],
      "execution_count": 18,
      "outputs": [
        {
          "output_type": "stream",
          "text": [
            "this member = 1 after process = 1\n",
            "this member = 2 after process = 4\n",
            "this member = 3 after process = 9\n"
          ],
          "name": "stdout"
        }
      ]
    },
    {
      "cell_type": "code",
      "metadata": {
        "id": "mXar_rvh1Seb"
      },
      "source": [
        ""
      ],
      "execution_count": null,
      "outputs": []
    }
  ]
}