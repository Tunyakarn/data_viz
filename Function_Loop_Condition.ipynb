{
  "nbformat": 4,
  "nbformat_minor": 0,
  "metadata": {
    "colab": {
      "name": "Function_Loop_Condition.ipynb",
      "provenance": [],
      "authorship_tag": "ABX9TyMfbXgAeF66DBavjMJ/tUY6",
      "include_colab_link": true
    },
    "kernelspec": {
      "name": "python3",
      "display_name": "Python 3"
    }
  },
  "cells": [
    {
      "cell_type": "markdown",
      "metadata": {
        "id": "view-in-github",
        "colab_type": "text"
      },
      "source": [
        "<a href=\"https://colab.research.google.com/github/Tunyakarn/data_viz/blob/main/Function_Loop_Condition.ipynb\" target=\"_parent\"><img src=\"https://colab.research.google.com/assets/colab-badge.svg\" alt=\"Open In Colab\"/></a>"
      ]
    },
    {
      "cell_type": "markdown",
      "metadata": {
        "id": "cJx8veUqgTuY"
      },
      "source": [
        "Function"
      ]
    },
    {
      "cell_type": "markdown",
      "metadata": {
        "id": "WcBocIYQg1Gs"
      },
      "source": [
        "Function template ทำหน้าที่รับ input มาประมวณผลออกมาเป็น output"
      ]
    },
    {
      "cell_type": "markdown",
      "metadata": {
        "id": "e1p1qflZhIn9"
      },
      "source": [
        "f(x) = y"
      ]
    },
    {
      "cell_type": "markdown",
      "metadata": {
        "id": "2cAi56jXhGR4"
      },
      "source": [
        "def คือ การกำหนดฟังก์ชัน"
      ]
    },
    {
      "cell_type": "markdown",
      "metadata": {
        "id": "KWKl8DwFkOAF"
      },
      "source": [
        "```python \n",
        "def function_name(_Input_) :\n",
        "  do_something with _Input_ to get _Output_\n",
        "  return _Output_\n",
        "  ```"
      ]
    },
    {
      "cell_type": "markdown",
      "metadata": {
        "id": "a0m4JUK5l8uJ"
      },
      "source": [
        "function มีส่วนสำคัญทั้งหมด 4 ส่วน\n",
        "1. บอก python ว่าเราจะเขียนฟังก์ชัน ชื่ออะไร ```def function_name():``` << ขาดไม่ได้\n",
        "2. กำหนดตัวแปรที่จะเป็น input ```_Input_``` << ขาดได้\n",
        "3. ส่วนประมวณผล ```do_something with _Input_ to get _Output_``` << ขาดไม่ได้\n",
        "4. ส่วน output ```return _Output_``` << ขาดได้ "
      ]
    },
    {
      "cell_type": "markdown",
      "metadata": {
        "id": "i9DsdMl9kTOT"
      },
      "source": [
        "ตัวอย่างการเขียน normal function"
      ]
    },
    {
      "cell_type": "code",
      "metadata": {
        "id": "eE8ZwtwJkHbT"
      },
      "source": [
        "def print_name(surname,ID,name) :\n",
        "  st = f'ชื่อ {name} นามสกุล {surname} รหัส {ID}'\n",
        "  return st"
      ],
      "execution_count": null,
      "outputs": []
    },
    {
      "cell_type": "code",
      "metadata": {
        "colab": {
          "base_uri": "https://localhost:8080/",
          "height": 37
        },
        "id": "2OtRH5CAk1a4",
        "outputId": "709c3eac-d211-4ca1-e03e-057e6e22c14a"
      },
      "source": [
        "print_name('พวงมาลัย','613020551-8','ธันยาการต์')"
      ],
      "execution_count": null,
      "outputs": [
        {
          "output_type": "execute_result",
          "data": {
            "application/vnd.google.colaboratory.intrinsic+json": {
              "type": "string"
            },
            "text/plain": [
              "'ชื่อ ธันยาการต์ นามสกุล พวงมาลัย รหัส 613020551-8'"
            ]
          },
          "metadata": {
            "tags": []
          },
          "execution_count": 5
        }
      ]
    },
    {
      "cell_type": "code",
      "metadata": {
        "colab": {
          "base_uri": "https://localhost:8080/"
        },
        "id": "wiiJEoOvnpPV",
        "outputId": "2d5ec609-067e-4e35-88fb-629d1a9a4fdc"
      },
      "source": [
        "print(print_name(name='ธันยาการต์',surname='พวงมาลัย',ID='613020551-8'))"
      ],
      "execution_count": null,
      "outputs": [
        {
          "output_type": "stream",
          "text": [
            "ชื่อ ธันยาการต์ นามสกุล พวงมาลัย รหัส 613020551-8\n"
          ],
          "name": "stdout"
        }
      ]
    },
    {
      "cell_type": "markdown",
      "metadata": {
        "id": "F8mdQ-qIpa8O"
      },
      "source": [
        "ใช้เว้นวรรค(indent) เพื่อบอกขอบเขตของโปรแกรม"
      ]
    },
    {
      "cell_type": "code",
      "metadata": {
        "id": "FwvPmBTFpAF3"
      },
      "source": [
        "def print_name2(surname,ID,name) :\n",
        "  st = f'ชื่อ {name} นามสกุล {surname} รหัส {ID}'\n",
        "  print(st)"
      ],
      "execution_count": null,
      "outputs": []
    },
    {
      "cell_type": "code",
      "metadata": {
        "colab": {
          "base_uri": "https://localhost:8080/"
        },
        "id": "9ssQZkRopnsi",
        "outputId": "7372a2f6-e532-49fa-e98c-64e4a48dc7e7"
      },
      "source": [
        "print_name2(name='ธันยาการต์',surname='พวงมาลัย',ID='613020551-8')"
      ],
      "execution_count": null,
      "outputs": [
        {
          "output_type": "stream",
          "text": [
            "ชื่อ ธันยาการต์ นามสกุล พวงมาลัย รหัส 613020551-8\n"
          ],
          "name": "stdout"
        }
      ]
    },
    {
      "cell_type": "markdown",
      "metadata": {
        "id": "mXsZS0C8qatD"
      },
      "source": [
        "ฟังก์ชันไม่จำเป็นต้องมี input"
      ]
    },
    {
      "cell_type": "code",
      "metadata": {
        "id": "lwfmsbh6qjLU"
      },
      "source": [
        "def Pi():\n",
        "  return 3.14159265359"
      ],
      "execution_count": null,
      "outputs": []
    },
    {
      "cell_type": "code",
      "metadata": {
        "colab": {
          "base_uri": "https://localhost:8080/"
        },
        "id": "qR24vKTSqsyA",
        "outputId": "7e51b9e8-7afc-4988-ecb8-5f3cacb5fdad"
      },
      "source": [
        "Pi()*(2**2) # หาพื้นที่ของวงกลมที่มีรัศมีเท่ากับ Pi * r^2 "
      ],
      "execution_count": null,
      "outputs": [
        {
          "output_type": "execute_result",
          "data": {
            "text/plain": [
              "12.56637061436"
            ]
          },
          "metadata": {
            "tags": []
          },
          "execution_count": 13
        }
      ]
    },
    {
      "cell_type": "markdown",
      "metadata": {
        "id": "LxeUt0Hdrcky"
      },
      "source": [
        "เราสามารถกำหนดค่า default ให้กับฟังก์ชันได้"
      ]
    },
    {
      "cell_type": "markdown",
      "metadata": {
        "id": "SuaseaVGxXsb"
      },
      "source": [
        "input ของ function ใน python มี 2 แบบ คือ \n",
        "1. input ที่จำเป็นต้องใส่\n",
        "2. input ที่ไม่จำเป็นต้องใส่ (มีค่า default)"
      ]
    },
    {
      "cell_type": "code",
      "metadata": {
        "id": "A24HEC8Vrr6d"
      },
      "source": [
        "def print_2lines_default(name,surname,ID,grade='F'):\n",
        "  st = f'ชื่อ {name} นามสกุล {surname} รหัส {ID}'\n",
        "  print(st)\n",
        "  st2 = f'เกรดวิชา Data Viz >>> {grade}'\n",
        "  print(st2)"
      ],
      "execution_count": null,
      "outputs": []
    },
    {
      "cell_type": "code",
      "metadata": {
        "colab": {
          "base_uri": "https://localhost:8080/"
        },
        "id": "ODRwrrvEs-Sp",
        "outputId": "d4563117-6234-4f41-826e-7cc90a685c8b"
      },
      "source": [
        "print_2lines_default('ธันยาการต์','พวงมาลัย','613020551-8')"
      ],
      "execution_count": null,
      "outputs": [
        {
          "output_type": "stream",
          "text": [
            "ชื่อ ธันยาการต์ นามสกุล พวงมาลัย รหัส 613020551-8\n",
            "เกรดวิชา Data Viz >>> F\n"
          ],
          "name": "stdout"
        }
      ]
    },
    {
      "cell_type": "code",
      "metadata": {
        "colab": {
          "base_uri": "https://localhost:8080/"
        },
        "id": "KCclWSiexQAd",
        "outputId": "d3d18681-7d16-47bb-ddb7-a85e228067cc"
      },
      "source": [
        "print_2lines_default('ธันยาการต์','พวงมาลัย','613020551-8','A')"
      ],
      "execution_count": null,
      "outputs": [
        {
          "output_type": "stream",
          "text": [
            "ชื่อ ธันยาการต์ นามสกุล พวงมาลัย รหัส 613020551-8\n",
            "เกรดวิชา Data Viz >>> A\n"
          ],
          "name": "stdout"
        }
      ]
    },
    {
      "cell_type": "markdown",
      "metadata": {
        "id": "EfXBiS5V0XXZ"
      },
      "source": [
        "LOOP การวนซ้ำ"
      ]
    },
    {
      "cell_type": "markdown",
      "metadata": {
        "id": "85ZH0yHi0kik"
      },
      "source": [
        "for เป็นคำที่ใช้บอก python ว่าเรากำลังเขียน loop \n",
        "โดย for จะวนดึงสมาชิกจาก ```listA``` มาทำ process ```do_something```"
      ]
    },
    {
      "cell_type": "markdown",
      "metadata": {
        "id": "e5SA9bhx0_65"
      },
      "source": [
        "for each_member in listA :\n",
        "do_something"
      ]
    },
    {
      "cell_type": "markdown",
      "metadata": {
        "id": "YDPUz3oa1VJ6"
      },
      "source": [
        "คำสั่ง for เป็นคำสั่งวนซ้ำที่ใช้ควบคุมการทำงานซ้ำๆในจำนวนรอบที่แน่นอน"
      ]
    },
    {
      "cell_type": "code",
      "metadata": {
        "colab": {
          "base_uri": "https://localhost:8080/"
        },
        "id": "1jBOwk2o0aX8",
        "outputId": "762ad620-0339-40ff-bb8a-c3ca43eae176"
      },
      "source": [
        "for i in [1,2,3] :\n",
        "  o = i**2\n",
        "  print(f'this member = {i} after process = {o}')"
      ],
      "execution_count": null,
      "outputs": [
        {
          "output_type": "stream",
          "text": [
            "this member = 1 after process = 1\n",
            "this member = 2 after process = 4\n",
            "this member = 3 after process = 9\n"
          ],
          "name": "stdout"
        }
      ]
    },
    {
      "cell_type": "code",
      "metadata": {
        "id": "mXar_rvh1Seb",
        "outputId": "c4417952-c69b-48ed-810d-e26dd42d159b",
        "colab": {
          "base_uri": "https://localhost:8080/"
        }
      },
      "source": [
        "for i in 'Tunyakarn' :\n",
        "  print(f'{i} -> / ')"
      ],
      "execution_count": 2,
      "outputs": [
        {
          "output_type": "stream",
          "text": [
            "T -> / \n",
            "u -> / \n",
            "n -> / \n",
            "y -> / \n",
            "a -> / \n",
            "k -> / \n",
            "a -> / \n",
            "r -> / \n",
            "n -> / \n"
          ],
          "name": "stdout"
        }
      ]
    },
    {
      "cell_type": "code",
      "metadata": {
        "id": "w_9Cjq3GWPka",
        "outputId": "972b053b-81aa-4738-eacc-9aa015587c3b",
        "colab": {
          "base_uri": "https://localhost:8080/"
        }
      },
      "source": [
        "for i in 'Tunyakarn' :\n",
        "  print(f'{i} -> / ' ,end = '') #สั่งให้ print แบบไม่เว้นบรรทัด"
      ],
      "execution_count": 3,
      "outputs": [
        {
          "output_type": "stream",
          "text": [
            "T -> / u -> / n -> / y -> / a -> / k -> / a -> / r -> / n -> / "
          ],
          "name": "stdout"
        }
      ]
    },
    {
      "cell_type": "code",
      "metadata": {
        "id": "Ms853ExlW5hn",
        "outputId": "d0a08fba-2a20-4d80-e773-a02e045dbf75",
        "colab": {
          "base_uri": "https://localhost:8080/"
        }
      },
      "source": [
        "for i in 'Tunyakarn' :\n",
        "  print(f'{i} -> / ' ,end = ',')"
      ],
      "execution_count": 4,
      "outputs": [
        {
          "output_type": "stream",
          "text": [
            "T -> / ,u -> / ,n -> / ,y -> / ,a -> / ,k -> / ,a -> / ,r -> / ,n -> / ,"
          ],
          "name": "stdout"
        }
      ]
    },
    {
      "cell_type": "markdown",
      "metadata": {
        "id": "woS4G4scXTv9"
      },
      "source": [
        "## สร้าง list ตัวเลขแบบอัตโนมัติ range()"
      ]
    },
    {
      "cell_type": "code",
      "metadata": {
        "id": "mdp7d4YHXdFy",
        "outputId": "c14c535c-7eae-4764-8638-3625a5d81cfb",
        "colab": {
          "base_uri": "https://localhost:8080/"
        }
      },
      "source": [
        "range5_output = range(5)\n",
        "print(list(range5_output))"
      ],
      "execution_count": 6,
      "outputs": [
        {
          "output_type": "stream",
          "text": [
            "[0, 1, 2, 3, 4]\n"
          ],
          "name": "stdout"
        }
      ]
    },
    {
      "cell_type": "code",
      "metadata": {
        "id": "ThTzaEb8YRBA",
        "outputId": "9e5f985e-31e9-43f5-ed36-ee3ebdf99817",
        "colab": {
          "base_uri": "https://localhost:8080/"
        }
      },
      "source": [
        "for i in range(100):\n",
        "  print('งง' ,end = ' ')"
      ],
      "execution_count": 9,
      "outputs": [
        {
          "output_type": "stream",
          "text": [
            "งง งง งง งง งง งง งง งง งง งง งง งง งง งง งง งง งง งง งง งง งง งง งง งง งง งง งง งง งง งง งง งง งง งง งง งง งง งง งง งง งง งง งง งง งง งง งง งง งง งง งง งง งง งง งง งง งง งง งง งง งง งง งง งง งง งง งง งง งง งง งง งง งง งง งง งง งง งง งง งง งง งง งง งง งง งง งง งง งง งง งง งง งง งง งง งง งง งง งง งง "
          ],
          "name": "stdout"
        }
      ]
    },
    {
      "cell_type": "code",
      "metadata": {
        "id": "J4Nj75OIY6Q6",
        "outputId": "6f9e7e55-d2dd-4f24-9980-a5408a444743",
        "colab": {
          "base_uri": "https://localhost:8080/"
        }
      },
      "source": [
        "list(range(1,11)) #เริ่งต้นเป็นวงกลมทึบ จบเป็นวงกลมโปร่ง หลักการเหมือน list slicing "
      ],
      "execution_count": 10,
      "outputs": [
        {
          "output_type": "execute_result",
          "data": {
            "text/plain": [
              "[1, 2, 3, 4, 5, 6, 7, 8, 9, 10]"
            ]
          },
          "metadata": {
            "tags": []
          },
          "execution_count": 10
        }
      ]
    },
    {
      "cell_type": "code",
      "metadata": {
        "id": "KQgWEZMVceQe",
        "outputId": "f33458a4-d74c-4404-db03-ed17a5ddf6b6",
        "colab": {
          "base_uri": "https://localhost:8080/"
        }
      },
      "source": [
        "list(range(-3,20,4)) #ตัวในวงเล็บคือ (จุดเริ่มต้น,จุดจบ,เพิ่มทีละ)"
      ],
      "execution_count": 11,
      "outputs": [
        {
          "output_type": "execute_result",
          "data": {
            "text/plain": [
              "[-3, 1, 5, 9, 13, 17]"
            ]
          },
          "metadata": {
            "tags": []
          },
          "execution_count": 11
        }
      ]
    },
    {
      "cell_type": "markdown",
      "metadata": {
        "id": "HUwF_Ptcc7To"
      },
      "source": [
        "## loop in loop\n",
        "## สามารถใช้ for loop ซ้อนกันสองรอบได้"
      ]
    },
    {
      "cell_type": "code",
      "metadata": {
        "id": "0WZ9lW_wdNsP",
        "outputId": "78815f4b-5fe7-49fe-fff8-7ce497caf8a4",
        "colab": {
          "base_uri": "https://localhost:8080/"
        }
      },
      "source": [
        "for name1 in range(2,5): #ผลคือ 2,3,4\n",
        "  print(f'now name1 = {name1}')\n",
        "  for name2 in range(1,13):\n",
        "    print(name1,' x ',name2, ' = ',name1*name2)\n",
        "  print('the inner loop is end')"
      ],
      "execution_count": 15,
      "outputs": [
        {
          "output_type": "stream",
          "text": [
            "now name1 = 2\n",
            "2  x  1  =  2\n",
            "2  x  2  =  4\n",
            "2  x  3  =  6\n",
            "2  x  4  =  8\n",
            "2  x  5  =  10\n",
            "2  x  6  =  12\n",
            "2  x  7  =  14\n",
            "2  x  8  =  16\n",
            "2  x  9  =  18\n",
            "2  x  10  =  20\n",
            "2  x  11  =  22\n",
            "2  x  12  =  24\n",
            "the inner loop is end\n",
            "now name1 = 3\n",
            "3  x  1  =  3\n",
            "3  x  2  =  6\n",
            "3  x  3  =  9\n",
            "3  x  4  =  12\n",
            "3  x  5  =  15\n",
            "3  x  6  =  18\n",
            "3  x  7  =  21\n",
            "3  x  8  =  24\n",
            "3  x  9  =  27\n",
            "3  x  10  =  30\n",
            "3  x  11  =  33\n",
            "3  x  12  =  36\n",
            "the inner loop is end\n",
            "now name1 = 4\n",
            "4  x  1  =  4\n",
            "4  x  2  =  8\n",
            "4  x  3  =  12\n",
            "4  x  4  =  16\n",
            "4  x  5  =  20\n",
            "4  x  6  =  24\n",
            "4  x  7  =  28\n",
            "4  x  8  =  32\n",
            "4  x  9  =  36\n",
            "4  x  10  =  40\n",
            "4  x  11  =  44\n",
            "4  x  12  =  48\n",
            "the inner loop is end\n"
          ],
          "name": "stdout"
        }
      ]
    },
    {
      "cell_type": "markdown",
      "metadata": {
        "id": "B2DT5FHRfH9F"
      },
      "source": [
        "## loop in function การวนลูปในฟังก์ชัน"
      ]
    },
    {
      "cell_type": "code",
      "metadata": {
        "id": "kV9kF7VdgWX6"
      },
      "source": [
        "def print_feelings(I,friends,feeling = 'คิดถึง'):\n",
        "  for friend in friends :\n",
        "    print(f'{I} {feeling} {friend}')"
      ],
      "execution_count": 25,
      "outputs": []
    },
    {
      "cell_type": "code",
      "metadata": {
        "id": "GZvSH74Tfm-A"
      },
      "source": [
        "list_friends = ['กล้า','แพร','เบญ','เนย','แอน']"
      ],
      "execution_count": 29,
      "outputs": []
    },
    {
      "cell_type": "code",
      "metadata": {
        "id": "4RevCqN2grXd",
        "outputId": "2b4688b8-6e74-439d-d496-d0faef3dade3",
        "colab": {
          "base_uri": "https://localhost:8080/"
        }
      },
      "source": [
        "print_feelings('ปูนปั้น',list_friends)"
      ],
      "execution_count": 30,
      "outputs": [
        {
          "output_type": "stream",
          "text": [
            "ปูนปั้น คิดถึง กล้า\n",
            "ปูนปั้น คิดถึง แพร\n",
            "ปูนปั้น คิดถึง เบญ\n",
            "ปูนปั้น คิดถึง เนย\n",
            "ปูนปั้น คิดถึง แอน\n"
          ],
          "name": "stdout"
        }
      ]
    },
    {
      "cell_type": "markdown",
      "metadata": {
        "id": "gkM1gD52kEfm"
      },
      "source": [
        "## condition คือ เงื่อนไข/ประโยคเงื่อนไข"
      ]
    },
    {
      "cell_type": "code",
      "metadata": {
        "id": "sjnX71c1lb-Y",
        "outputId": "2b6aa089-0f71-470b-becc-f2107853ef4b",
        "colab": {
          "base_uri": "https://localhost:8080/"
        }
      },
      "source": [
        "for name1 in list_friends :\n",
        "  for name2 in list_friends :\n",
        "    if name1 != name2 : #ไม่ print ชื่อคนเดียวกันซ้ำ\n",
        "      print(name1,'รัก',name2)"
      ],
      "execution_count": 31,
      "outputs": [
        {
          "output_type": "stream",
          "text": [
            "กล้า รัก แพร\n",
            "กล้า รัก เบญ\n",
            "กล้า รัก เนย\n",
            "กล้า รัก แอน\n",
            "แพร รัก กล้า\n",
            "แพร รัก เบญ\n",
            "แพร รัก เนย\n",
            "แพร รัก แอน\n",
            "เบญ รัก กล้า\n",
            "เบญ รัก แพร\n",
            "เบญ รัก เนย\n",
            "เบญ รัก แอน\n",
            "เนย รัก กล้า\n",
            "เนย รัก แพร\n",
            "เนย รัก เบญ\n",
            "เนย รัก แอน\n",
            "แอน รัก กล้า\n",
            "แอน รัก แพร\n",
            "แอน รัก เบญ\n",
            "แอน รัก เนย\n"
          ],
          "name": "stdout"
        }
      ]
    },
    {
      "cell_type": "code",
      "metadata": {
        "id": "Upl05KVGmCHO",
        "outputId": "601bcc00-c76b-429b-97c5-649c7e78e20b",
        "colab": {
          "base_uri": "https://localhost:8080/"
        }
      },
      "source": [
        "for name1 in list_friends :\n",
        "  for name2 in list_friends :\n",
        "    if name1 == name2 : #print ชื่อคนเดียวกันซ้ำ\n",
        "      print(name1,'รัก',name2)"
      ],
      "execution_count": 32,
      "outputs": [
        {
          "output_type": "stream",
          "text": [
            "กล้า รัก กล้า\n",
            "แพร รัก แพร\n",
            "เบญ รัก เบญ\n",
            "เนย รัก เนย\n",
            "แอน รัก แอน\n"
          ],
          "name": "stdout"
        }
      ]
    },
    {
      "cell_type": "code",
      "metadata": {
        "id": "16pBfjnimHA4",
        "outputId": "532a31a6-1418-46f2-8f1e-5e687e93d362",
        "colab": {
          "base_uri": "https://localhost:8080/"
        }
      },
      "source": [
        "for name1 in list_friends :\n",
        "  for name2 in list_friends :\n",
        "    if name1 == name2 : \n",
        "      'do nothing'\n",
        "    else:\n",
        "      print(name1,'รัก',name2)"
      ],
      "execution_count": 33,
      "outputs": [
        {
          "output_type": "stream",
          "text": [
            "กล้า รัก แพร\n",
            "กล้า รัก เบญ\n",
            "กล้า รัก เนย\n",
            "กล้า รัก แอน\n",
            "แพร รัก กล้า\n",
            "แพร รัก เบญ\n",
            "แพร รัก เนย\n",
            "แพร รัก แอน\n",
            "เบญ รัก กล้า\n",
            "เบญ รัก แพร\n",
            "เบญ รัก เนย\n",
            "เบญ รัก แอน\n",
            "เนย รัก กล้า\n",
            "เนย รัก แพร\n",
            "เนย รัก เบญ\n",
            "เนย รัก แอน\n",
            "แอน รัก กล้า\n",
            "แอน รัก แพร\n",
            "แอน รัก เบญ\n",
            "แอน รัก เนย\n"
          ],
          "name": "stdout"
        }
      ]
    },
    {
      "cell_type": "markdown",
      "metadata": {
        "id": "aaSkkXMXmw7t"
      },
      "source": [
        "## สัญลักษณ์ใน condition \n",
        "## ==,!=,>=,<=,<,>"
      ]
    }
  ]
}